{
 "cells": [
  {
   "cell_type": "code",
   "execution_count": 96,
   "metadata": {},
   "outputs": [],
   "source": [
    "import pandas as pd\n",
    "import requests\n",
    "from requests import post, get\n",
    "import datetime\n",
    "import base64\n",
    "from dotenv import load_dotenv\n",
    "import os\n",
    "import json\n",
    "from urllib.parse import urlencode\n",
    "from bs4 import BeautifulSoup\n",
    "from flask import Flask, request\n",
    "import webbrowser"
   ]
  },
  {
   "cell_type": "code",
   "execution_count": 97,
   "metadata": {},
   "outputs": [],
   "source": [
    "load_dotenv()\n",
    "client_id = os.getenv('client_id')\n",
    "client_secret = os.getenv('client_secret')\n",
    "redirect_uri = os.getenv('redirect_uri')"
   ]
  },
  {
   "cell_type": "code",
   "execution_count": 98,
   "metadata": {},
   "outputs": [],
   "source": [
    "def get_authorization_url(client_id, redirect_uri):\n",
    "    parameters = {\n",
    "        'client_id': client_id,\n",
    "        'response_type': 'code',\n",
    "        'redirect_uri': redirect_uri,\n",
    "        'scope': 'user-read-recently-played',\n",
    "    }\n",
    "    url = \"https://accounts.spotify.com/authorize?\" + urlencode(parameters)\n",
    "    return url"
   ]
  },
  {
   "cell_type": "code",
   "execution_count": 61,
   "metadata": {},
   "outputs": [],
   "source": [
    "def get_token_with_authorization_code(authorization_code, client_id, client_secret, redirect_uri):\n",
    "    auth_string = client_id + ':' + client_secret\n",
    "    auth_bytes = auth_string.encode('utf-8')\n",
    "    auth_base64 = str(base64.b64encode(auth_bytes), 'utf-8')\n",
    "    url = 'https://accounts.spotify.com/api/token'\n",
    "    headers = {\n",
    "        'Authorization': 'Basic ' + auth_base64,\n",
    "        'Content-Type': 'application/x-www-form-urlencoded'\n",
    "    }\n",
    "    data = {\n",
    "        'grant_type': 'authorization_code',\n",
    "        'code': authorization_code,\n",
    "        'redirect_uri': redirect_uri   \n",
    "    }\n",
    "    result = post(url, headers=headers, data=data)\n",
    "    json_result = json.loads(result.content)\n",
    "    token = json_result['access_token']\n",
    "    return token"
   ]
  },
  {
   "cell_type": "code",
   "execution_count": null,
   "metadata": {},
   "outputs": [],
   "source": [
    "authorization_url = get_authorization_url(client_id, redirect_uri)\n",
    "webbrowser.open(authorization_url)"
   ]
  },
  {
   "cell_type": "code",
   "execution_count": null,
   "metadata": {},
   "outputs": [],
   "source": [
    "# Authorization code is received from opening up the authorization url.\n",
    "authorization_code = 'your_authorization_code'\n",
    "try:\n",
    "    access_token = get_token_with_authorization_code(authorization_code, client_id, client_secret, redirect_uri)\n",
    "    print('Access token received!')\n",
    "except:\n",
    "    print('Access token already received for this authorization code.')"
   ]
  },
  {
   "cell_type": "code",
   "execution_count": 101,
   "metadata": {},
   "outputs": [],
   "source": [
    "def create_dataframe(access_token):\n",
    "    base_url = 'https://api.spotify.com'\n",
    "    recently_played_url = '/v1/me/player/recently-played?'\n",
    "    time = int((datetime.datetime.now() - datetime.timedelta(days=5)).timestamp()) * 1000\n",
    "    parameters = {\n",
    "        'limit': 50,\n",
    "        'after': time\n",
    "    }\n",
    "    url = base_url + recently_played_url + urlencode(parameters)\n",
    "    headers = {\n",
    "        'Authorization': 'Bearer ' + access_token,\n",
    "        'Accept': 'application/json',\n",
    "        'Content-Type': 'application/json'\n",
    "    }\n",
    "    results = get(url, headers=headers)\n",
    "    data = results.json()\n",
    "    song_names = []\n",
    "    artist_names = []\n",
    "    time_played_at = []\n",
    "    date_played_at = []\n",
    "    for song in data['items']:\n",
    "        song_names.append(song['track']['name'])\n",
    "        artist_names.append(song['track']['album']['artists'][0]['name'])\n",
    "        time_played_at.append(song['played_at'][10:])\n",
    "        date_played_at.append(song['played_at'][0:10])\n",
    "    dictionary = {\n",
    "        'song_name': song_names,\n",
    "        'artist_name': artist_names,\n",
    "        'time_played_at': time_played_at,\n",
    "        'date_played_at': date_played_at\n",
    "    }\n",
    "    df = pd.DataFrame(dictionary)\n",
    "    return df"
   ]
  },
  {
   "cell_type": "code",
   "execution_count": null,
   "metadata": {},
   "outputs": [],
   "source": [
    "data_df = create_dataframe(access_token)\n",
    "data_df"
   ]
  },
  {
   "cell_type": "code",
   "execution_count": 103,
   "metadata": {},
   "outputs": [],
   "source": [
    "def check(df):\n",
    "    if df.empty:\n",
    "        print('DataFrame is empty.')\n",
    "        return False\n",
    "    elif df.isnull().values.any():\n",
    "        raise Exception('Null values found.')\n",
    "    else:\n",
    "        print('Data looks good.')\n",
    "    "
   ]
  },
  {
   "cell_type": "code",
   "execution_count": null,
   "metadata": {},
   "outputs": [],
   "source": [
    "check(data_df)"
   ]
  },
  {
   "cell_type": "code",
   "execution_count": null,
   "metadata": {},
   "outputs": [],
   "source": [
    "from sqlalchemy import create_engine\n",
    "\n",
    "load_dotenv()\n",
    "username = os.getenv('username')\n",
    "password = os.getenv('password')\n",
    "host = os.getenv('host')\n",
    "port = os.getenv('port')\n",
    "database = os.getenv('database')\n",
    "\n",
    "engine = create_engine(f'postgresql://{username}:{password}@{host}:{port}/{database}')\n",
    "try:\n",
    "    data_df.to_sql('spotify_data', engine, if_exists='replace', index=False)\n",
    "    print(\"Data uploaded successfully!\")\n",
    "except Exception as e:\n",
    "    print(f\"An error occurred: {e}\")\n",
    "finally:\n",
    "    engine.dispose()"
   ]
  }
 ],
 "metadata": {
  "kernelspec": {
   "display_name": ".venv",
   "language": "python",
   "name": "python3"
  },
  "language_info": {
   "codemirror_mode": {
    "name": "ipython",
    "version": 3
   },
   "file_extension": ".py",
   "mimetype": "text/x-python",
   "name": "python",
   "nbconvert_exporter": "python",
   "pygments_lexer": "ipython3",
   "version": "3.12.2"
  }
 },
 "nbformat": 4,
 "nbformat_minor": 2
}
